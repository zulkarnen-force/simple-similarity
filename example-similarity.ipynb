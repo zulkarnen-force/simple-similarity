{
 "cells": [
  {
   "cell_type": "code",
   "execution_count": 12,
   "id": "67bc895e",
   "metadata": {},
   "outputs": [],
   "source": [
    "import pandas as pd\n",
    "from sklearn.metrics.pairwise import cosine_similarity\n",
    "from sklearn.feature_extraction.text import CountVectorizer"
   ]
  },
  {
   "cell_type": "code",
   "execution_count": 33,
   "id": "25cedab6",
   "metadata": {},
   "outputs": [],
   "source": [
    "news = [\n",
    "    'Keluarga Menduga Brigadir J Korban Pembunuhan Berencana, Banyak Kejanggalan, Termasuk Luka Sayatan di Tubuh',\n",
    "    'Duga Brigadir J Jadi Korban Pembunuhan Berencana, Keluarga Lapor ke Bareskrim Hari Ini',\n",
    "'Keluarga Menduga Brigadir J Korban Pembunuhan Berencana, Banyak Kejanggalan, Termasuk Luka Sayatan di Tubuh']"
   ]
  },
  {
   "cell_type": "code",
   "execution_count": 34,
   "id": "689e9f7e",
   "metadata": {},
   "outputs": [],
   "source": [
    "vectorizer = CountVectorizer()\n",
    "result_vectorizer = vectorizer.fit_transform(news)\n",
    "text_count = vectorizer.get_feature_names()"
   ]
  },
  {
   "cell_type": "code",
   "execution_count": 35,
   "id": "fbee8140",
   "metadata": {},
   "outputs": [
    {
     "data": {
      "text/plain": [
       "['banyak',\n",
       " 'bareskrim',\n",
       " 'berencana',\n",
       " 'brigadir',\n",
       " 'di',\n",
       " 'duga',\n",
       " 'hari',\n",
       " 'ini',\n",
       " 'jadi',\n",
       " 'ke',\n",
       " 'kejanggalan',\n",
       " 'keluarga',\n",
       " 'korban',\n",
       " 'lapor',\n",
       " 'luka',\n",
       " 'menduga',\n",
       " 'pembunuhan',\n",
       " 'sayatan',\n",
       " 'termasuk',\n",
       " 'tubuh']"
      ]
     },
     "execution_count": 35,
     "metadata": {},
     "output_type": "execute_result"
    }
   ],
   "source": [
    "text_count"
   ]
  },
  {
   "cell_type": "code",
   "execution_count": 36,
   "id": "ce747cd7",
   "metadata": {},
   "outputs": [],
   "source": [
    "cosine = cosine_similarity(result_vectorizer[0:1], result_vectorizer)"
   ]
  },
  {
   "cell_type": "code",
   "execution_count": 37,
   "id": "e8fa1152",
   "metadata": {},
   "outputs": [
    {
     "name": "stdout",
     "output_type": "stream",
     "text": [
      "[[1 0 1 1 1 0 0 0 0 0 1 1 1 0 1 1 1 1 1 1]\n",
      " [0 1 1 1 0 1 1 1 1 1 0 1 1 1 0 0 1 0 0 0]\n",
      " [1 0 1 1 1 0 0 0 0 0 1 1 1 0 1 1 1 1 1 1]]\n"
     ]
    }
   ],
   "source": [
    "print(result_vectorizer.toarray())"
   ]
  },
  {
   "cell_type": "code",
   "execution_count": 38,
   "id": "af09126a",
   "metadata": {},
   "outputs": [
    {
     "data": {
      "text/plain": [
       "array([[1.        , 0.40032038, 1.        ]])"
      ]
     },
     "execution_count": 38,
     "metadata": {},
     "output_type": "execute_result"
    }
   ],
   "source": [
    "cosine"
   ]
  },
  {
   "cell_type": "code",
   "execution_count": null,
   "id": "2157c51b",
   "metadata": {},
   "outputs": [],
   "source": []
  },
  {
   "cell_type": "code",
   "execution_count": 39,
   "id": "d8772ec6",
   "metadata": {},
   "outputs": [
    {
     "data": {
      "text/html": [
       "<div>\n",
       "<style scoped>\n",
       "    .dataframe tbody tr th:only-of-type {\n",
       "        vertical-align: middle;\n",
       "    }\n",
       "\n",
       "    .dataframe tbody tr th {\n",
       "        vertical-align: top;\n",
       "    }\n",
       "\n",
       "    .dataframe thead th {\n",
       "        text-align: right;\n",
       "    }\n",
       "</style>\n",
       "<table border=\"1\" class=\"dataframe\">\n",
       "  <thead>\n",
       "    <tr style=\"text-align: right;\">\n",
       "      <th></th>\n",
       "      <th>0</th>\n",
       "      <th>1</th>\n",
       "      <th>2</th>\n",
       "    </tr>\n",
       "  </thead>\n",
       "  <tbody>\n",
       "    <tr>\n",
       "      <th>0</th>\n",
       "      <td>1.0</td>\n",
       "      <td>0.40032</td>\n",
       "      <td>1.0</td>\n",
       "    </tr>\n",
       "  </tbody>\n",
       "</table>\n",
       "</div>"
      ],
      "text/plain": [
       "     0        1    2\n",
       "0  1.0  0.40032  1.0"
      ]
     },
     "execution_count": 39,
     "metadata": {},
     "output_type": "execute_result"
    }
   ],
   "source": [
    "pd.DataFrame(cosine)"
   ]
  },
  {
   "cell_type": "code",
   "execution_count": null,
   "id": "3e5dd331",
   "metadata": {},
   "outputs": [],
   "source": []
  }
 ],
 "metadata": {
  "kernelspec": {
   "display_name": "Python 3 (ipykernel)",
   "language": "python",
   "name": "python3"
  },
  "language_info": {
   "codemirror_mode": {
    "name": "ipython",
    "version": 3
   },
   "file_extension": ".py",
   "mimetype": "text/x-python",
   "name": "python",
   "nbconvert_exporter": "python",
   "pygments_lexer": "ipython3",
   "version": "3.9.7"
  }
 },
 "nbformat": 4,
 "nbformat_minor": 5
}
